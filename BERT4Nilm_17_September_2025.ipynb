{
  "nbformat": 4,
  "nbformat_minor": 0,
  "metadata": {
    "colab": {
      "provenance": [],
      "authorship_tag": "ABX9TyN9dQuwYGKq2Y8axMmH5IYm",
      "include_colab_link": true
    },
    "kernelspec": {
      "name": "python3",
      "display_name": "Python 3"
    },
    "language_info": {
      "name": "python"
    }
  },
  "cells": [
    {
      "cell_type": "markdown",
      "metadata": {
        "id": "view-in-github",
        "colab_type": "text"
      },
      "source": [
        "<a href=\"https://colab.research.google.com/github/Ken89MathCompSci/BERT4Nilm-base/blob/kengoh-modified-upload/BERT4Nilm_17_September_2025.ipynb\" target=\"_parent\"><img src=\"https://colab.research.google.com/assets/colab-badge.svg\" alt=\"Open In Colab\"/></a>"
      ]
    },
    {
      "cell_type": "code",
      "execution_count": 1,
      "metadata": {
        "colab": {
          "base_uri": "https://localhost:8080/"
        },
        "id": "GmVveUsKlVkB",
        "outputId": "b7738ed5-47c6-486d-b157-70c80c86d24c"
      },
      "outputs": [
        {
          "output_type": "stream",
          "name": "stdout",
          "text": [
            "\u001b[0m\u001b[01;34mBERT4Nilm-base\u001b[0m/  \u001b[01;34msample_data\u001b[0m/\n"
          ]
        }
      ],
      "source": [
        "ls\n"
      ]
    },
    {
      "cell_type": "code",
      "source": [
        "pwd"
      ],
      "metadata": {
        "colab": {
          "base_uri": "https://localhost:8080/",
          "height": 35
        },
        "id": "aFL-nyKVmBZf",
        "outputId": "720230ac-691f-49a4-edab-af31b7d08902"
      },
      "execution_count": 2,
      "outputs": [
        {
          "output_type": "execute_result",
          "data": {
            "text/plain": [
              "'/content'"
            ],
            "application/vnd.google.colaboratory.intrinsic+json": {
              "type": "string"
            }
          },
          "metadata": {},
          "execution_count": 2
        }
      ]
    },
    {
      "cell_type": "code",
      "source": [
        "import fileinput\n",
        "\n",
        "trainer_file = '/content/BERT4Nilm-base/trainer.py'\n",
        "\n",
        "# Use a more robust in-place replacement with python\n",
        "with fileinput.FileInput(trainer_file, inplace=True, backup='.bak') as file:\n",
        "    for line in file:\n",
        "        # Remove the deprecated import\n",
        "        if 'from torch.autograd.gradcheck import zero_gradients' in line:\n",
        "            continue # Skip printing this line\n",
        "        # Replace the deprecated function call with the optimizer's zero_grad() method\n",
        "        elif 'zero_gradients(self.model.cpu().parameters())' in line:\n",
        "            # It's important to preserve indentation\n",
        "            indentation = line[:len(line) - len(line.lstrip())]\n",
        "            print(f\"{indentation}self.optim.zero_grad()\");\n",
        "        else:\n",
        "            print(line, end='')\n",
        "\n",
        "print(f\"Patched {trainer_file} to fix the 'zero_gradients' ImportError.\")"
      ],
      "metadata": {
        "colab": {
          "base_uri": "https://localhost:8080/"
        },
        "id": "duxBIFRgm_gD",
        "outputId": "158422e7-9b86-4cc1-e2a9-47f383651fdb"
      },
      "execution_count": 4,
      "outputs": [
        {
          "output_type": "stream",
          "name": "stdout",
          "text": [
            "Patched /content/BERT4Nilm-base/trainer.py to fix the 'zero_gradients' ImportError.\n"
          ]
        }
      ]
    },
    {
      "cell_type": "code",
      "source": [
        "with open('/content/BERT4Nilm-base/dataset.py', 'r') as f:\n",
        "    content = f.read()\n",
        "\n",
        "# Correct the deprecated pandas '.append' method\n",
        "# This handles all the broken states we've seen so far\n",
        "content = content.replace('_entire_data._append', 'entire_data._append') # As seen in the last error\n",
        "content = content.replace('_entire_data.append', 'entire_data._append') # From the first failed fix\n",
        "content = content.replace('entire_data.append', 'entire_data._append')  # Original state\n",
        "\n",
        "# Correct the deprecated '.fillna' method\n",
        "content = content.replace(\".fillna(method='ffill')\", \".ffill()\")\n",
        "\n",
        "with open('/content/BERT4Nilm-base/dataset.py', 'w') as f:\n",
        "    f.write(content)\n",
        "\n",
        "print(\"dataset.py has been patched (again, with feeling).\")"
      ],
      "metadata": {
        "colab": {
          "base_uri": "https://localhost:8080/"
        },
        "id": "NMekvx5NnJwV",
        "outputId": "4c1d0614-afd3-47b4-9e0a-179379133c6c"
      },
      "execution_count": 6,
      "outputs": [
        {
          "output_type": "stream",
          "name": "stdout",
          "text": [
            "dataset.py has been patched (again, with feeling).\n"
          ]
        }
      ]
    },
    {
      "cell_type": "code",
      "source": [
        "!cd /content/BERT4Nilm-base && python train.py"
      ],
      "metadata": {
        "colab": {
          "base_uri": "https://localhost:8080/"
        },
        "id": "87TEoUMImF0F",
        "outputId": "2be33548-ee5a-416f-9228-2a01bf0c03f4"
      },
      "execution_count": null,
      "outputs": [
        {
          "output_type": "stream",
          "name": "stdout",
          "text": [
            "/usr/local/lib/python3.12/dist-packages/torch/__init__.py:1264: UserWarning: torch.set_default_tensor_type() is deprecated as of PyTorch 2.1, please use torch.set_default_dtype() and torch.set_default_device() as alternatives. (Triggered internally at /pytorch/torch/csrc/tensor/python_tensor.cpp:434.)\n",
            "  _C._set_default_tensor_type(t)\n",
            "Input r for REDD, u for UK_DALE: "
          ]
        }
      ]
    }
  ]
}