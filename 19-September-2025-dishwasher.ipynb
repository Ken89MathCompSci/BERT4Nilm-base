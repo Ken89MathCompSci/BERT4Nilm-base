{
  "nbformat": 4,
  "nbformat_minor": 0,
  "metadata": {
    "colab": {
      "provenance": [],
      "gpuType": "T4",
      "authorship_tag": "ABX9TyOgrNAf1lEljwLOhhZgqTbd",
      "include_colab_link": true
    },
    "kernelspec": {
      "name": "python3",
      "display_name": "Python 3"
    },
    "language_info": {
      "name": "python"
    },
    "accelerator": "GPU"
  },
  "cells": [
    {
      "cell_type": "markdown",
      "metadata": {
        "id": "view-in-github",
        "colab_type": "text"
      },
      "source": [
        "<a href=\"https://colab.research.google.com/github/Ken89MathCompSci/BERT4Nilm-base/blob/kengoh-modified-upload/19-September-2025-dishwasher.ipynb\" target=\"_parent\"><img src=\"https://colab.research.google.com/assets/colab-badge.svg\" alt=\"Open In Colab\"/></a>"
      ]
    },
    {
      "cell_type": "code",
      "execution_count": 4,
      "metadata": {
        "colab": {
          "base_uri": "https://localhost:8080/"
        },
        "id": "stF8_Nw75K3G",
        "outputId": "6fca8c37-cae5-418c-dd91-41232aa815c7"
      },
      "outputs": [
        {
          "output_type": "stream",
          "name": "stdout",
          "text": [
            "\u001b[0m\u001b[01;34mBERT4Nilm-base\u001b[0m/  \u001b[01;34msample_data\u001b[0m/\n"
          ]
        }
      ],
      "source": [
        "ls"
      ]
    },
    {
      "cell_type": "code",
      "source": [
        "pwd"
      ],
      "metadata": {
        "colab": {
          "base_uri": "https://localhost:8080/",
          "height": 35
        },
        "id": "GfDy04QA5lyo",
        "outputId": "b3f3111a-f80e-43f4-b790-5ad8801e2e4e"
      },
      "execution_count": 5,
      "outputs": [
        {
          "output_type": "execute_result",
          "data": {
            "text/plain": [
              "'/content'"
            ],
            "application/vnd.google.colaboratory.intrinsic+json": {
              "type": "string"
            }
          },
          "metadata": {},
          "execution_count": 5
        }
      ]
    },
    {
      "cell_type": "code",
      "source": [
        "import fileinput\n",
        "\n",
        "trainer_file = '/content/BERT4Nilm-base/trainer.py'\n",
        "\n",
        "# Use a more robust in-place replacement with python\n",
        "with fileinput.FileInput(trainer_file, inplace=True, backup='.bak') as file:\n",
        "    for line in file:\n",
        "        # Remove the deprecated import\n",
        "        if 'from torch.autograd.gradcheck import zero_gradients' in line:\n",
        "            continue # Skip printing this line\n",
        "        # Replace the deprecated function call with the optimizer's zero_grad() method\n",
        "        elif 'zero_gradients(self.model.cpu().parameters())' in line:\n",
        "            # It's important to preserve indentation\n",
        "            indentation = line[:len(line) - len(line.lstrip())]\n",
        "            print(f\"{indentation}self.optim.zero_grad()\");\n",
        "        else:\n",
        "            print(line, end='')\n",
        "\n",
        "print(f\"Patched {trainer_file} to fix the 'zero_gradients' ImportError.\")"
      ],
      "metadata": {
        "colab": {
          "base_uri": "https://localhost:8080/"
        },
        "id": "mwyIymFx5n-k",
        "outputId": "9b3e0acf-5f96-4c38-f61c-d696ee9ea717"
      },
      "execution_count": 6,
      "outputs": [
        {
          "output_type": "stream",
          "name": "stdout",
          "text": [
            "Patched /content/BERT4Nilm-base/trainer.py to fix the 'zero_gradients' ImportError.\n"
          ]
        }
      ]
    },
    {
      "cell_type": "code",
      "source": [
        "with open('/content/BERT4Nilm-base/dataset.py', 'r') as f:\n",
        "    content = f.read()\n",
        "\n",
        "# Correct the deprecated pandas '.append' method\n",
        "# This handles all the broken states we've seen so far\n",
        "content = content.replace('_entire_data._append', 'entire_data._append') # As seen in the last error\n",
        "content = content.replace('_entire_data.append', 'entire_data._append') # From the first failed fix\n",
        "content = content.replace('entire_data.append', 'entire_data._append')  # Original state\n",
        "\n",
        "# Correct the deprecated '.fillna' method\n",
        "content = content.replace(\".fillna(method='ffill')\", \".ffill()\")\n",
        "\n",
        "with open('/content/BERT4Nilm-base/dataset.py', 'w') as f:\n",
        "    f.write(content)\n",
        "\n",
        "print(\"dataset.py has been patched (again, with feeling).\")"
      ],
      "metadata": {
        "colab": {
          "base_uri": "https://localhost:8080/"
        },
        "id": "KUsvtZdd5-0o",
        "outputId": "d0840cf4-6c7e-478a-9312-7e259eb9f655"
      },
      "execution_count": 7,
      "outputs": [
        {
          "output_type": "stream",
          "name": "stdout",
          "text": [
            "dataset.py has been patched (again, with feeling).\n"
          ]
        }
      ]
    },
    {
      "cell_type": "code",
      "source": [
        "import torch\n",
        "\n",
        "if torch.cuda.is_available():\n",
        "    print(\"GPU is available.\")\n",
        "    # List all available GPUs and their IDs\n",
        "    for i in range(torch.cuda.device_count()):\n",
        "        print(f\"GPU ID: {i}, Name: {torch.cuda.get_device_name(i)}\")\n",
        "else:\n",
        "    print(\"No GPU available. The code will run on CPU.\")"
      ],
      "metadata": {
        "colab": {
          "base_uri": "https://localhost:8080/"
        },
        "id": "s9jnfyte6AXL",
        "outputId": "92401ef1-a7ea-42d0-bb54-106754201f96"
      },
      "execution_count": 8,
      "outputs": [
        {
          "output_type": "stream",
          "name": "stdout",
          "text": [
            "GPU is available.\n",
            "GPU ID: 0, Name: Tesla T4\n"
          ]
        }
      ]
    },
    {
      "cell_type": "code",
      "source": [
        "!cd /content/BERT4Nilm-base && python train.py"
      ],
      "metadata": {
        "colab": {
          "base_uri": "https://localhost:8080/"
        },
        "id": "YzSnpMQQ6B33",
        "outputId": "dd3ae28f-570b-49d7-f27a-7027ad349442"
      },
      "execution_count": null,
      "outputs": [
        {
          "output_type": "stream",
          "name": "stdout",
          "text": [
            "/usr/local/lib/python3.12/dist-packages/torch/__init__.py:1264: UserWarning: torch.set_default_tensor_type() is deprecated as of PyTorch 2.1, please use torch.set_default_dtype() and torch.set_default_device() as alternatives. (Triggered internally at /pytorch/torch/csrc/tensor/python_tensor.cpp:434.)\n",
            "  _C._set_default_tensor_type(t)\n",
            "Input GPU ID: 0\n",
            "Input r for REDD, u for UK_DALE: r\n",
            "Input r, w, m or d for target appliance: d\n",
            "Input training epochs: 200\n",
            "/content/BERT4Nilm-base/dataset.py:233: FutureWarning: Setting an item of incompatible dtype is deprecated and will raise in a future error of pandas. Value '0        2011-04-18 05:31:40\n",
            "1        2011-04-18 05:31:44\n",
            "2        2011-04-18 05:31:47\n",
            "3        2011-04-18 05:31:50\n",
            "4        2011-04-18 05:32:05\n",
            "                 ...        \n",
            "316835   2011-05-22 23:58:54\n",
            "316836   2011-05-22 23:58:57\n",
            "316837   2011-05-22 23:59:01\n",
            "316838   2011-05-22 23:59:04\n",
            "316839   2011-05-22 23:59:08\n",
            "Name: 0, Length: 316840, dtype: datetime64[ns]' has dtype incompatible with int64, please explicitly cast to a compatible dtype first.\n",
            "  house_data.iloc[:, 0] = pd.to_datetime(\n",
            "/content/BERT4Nilm-base/dataset.py:238: FutureWarning: DataFrame.fillna with 'method' is deprecated and will raise in a future version. Use obj.ffill() or obj.bfill() instead.\n",
            "  house_data = house_data.resample(self.sampling).mean().fillna(\n",
            "/content/BERT4Nilm-base/dataset.py:233: FutureWarning: Setting an item of incompatible dtype is deprecated and will raise in a future error of pandas. Value '0        2011-04-16 05:11:30\n",
            "1        2011-04-16 05:11:33\n",
            "2        2011-04-16 05:11:36\n",
            "3        2011-04-16 05:11:40\n",
            "4        2011-04-16 05:11:43\n",
            "                 ...        \n",
            "376145   2011-05-31 00:19:23\n",
            "376146   2011-05-31 00:19:26\n",
            "376147   2011-05-31 00:19:30\n",
            "376148   2011-05-31 00:19:33\n",
            "376149   2011-05-31 00:19:36\n",
            "Name: 0, Length: 376150, dtype: datetime64[ns]' has dtype incompatible with int64, please explicitly cast to a compatible dtype first.\n",
            "  house_data.iloc[:, 0] = pd.to_datetime(\n",
            "/content/BERT4Nilm-base/dataset.py:238: FutureWarning: DataFrame.fillna with 'method' is deprecated and will raise in a future version. Use obj.ffill() or obj.bfill() instead.\n",
            "  house_data = house_data.resample(self.sampling).mean().fillna(\n",
            "/content/BERT4Nilm-base/dataset.py:233: FutureWarning: Setting an item of incompatible dtype is deprecated and will raise in a future error of pandas. Value '0        2011-04-17 01:16:32\n",
            "1        2011-04-17 01:16:35\n",
            "2        2011-04-17 01:16:38\n",
            "3        2011-04-17 01:16:42\n",
            "4        2011-04-17 01:16:45\n",
            "                 ...        \n",
            "428071   2011-06-04 00:45:25\n",
            "428072   2011-06-04 00:45:28\n",
            "428073   2011-06-04 00:45:31\n",
            "428074   2011-06-04 00:45:35\n",
            "428075   2011-06-04 00:45:38\n",
            "Name: 0, Length: 428076, dtype: datetime64[ns]' has dtype incompatible with int64, please explicitly cast to a compatible dtype first.\n",
            "  house_data.iloc[:, 0] = pd.to_datetime(\n",
            "/content/BERT4Nilm-base/dataset.py:238: FutureWarning: DataFrame.fillna with 'method' is deprecated and will raise in a future version. Use obj.ffill() or obj.bfill() instead.\n",
            "  house_data = house_data.resample(self.sampling).mean().fillna(\n",
            "/content/BERT4Nilm-base/dataset.py:233: FutureWarning: Setting an item of incompatible dtype is deprecated and will raise in a future error of pandas. Value '0       2011-04-18 04:24:07\n",
            "1       2011-04-18 04:24:11\n",
            "2       2011-04-18 04:24:14\n",
            "3       2011-04-18 04:24:18\n",
            "4       2011-04-18 04:24:21\n",
            "                ...        \n",
            "77446   2011-06-01 00:19:59\n",
            "77447   2011-06-01 00:20:03\n",
            "77448   2011-06-01 00:20:07\n",
            "77449   2011-06-01 00:20:10\n",
            "77450   2011-06-01 00:20:14\n",
            "Name: 0, Length: 77451, dtype: datetime64[ns]' has dtype incompatible with int64, please explicitly cast to a compatible dtype first.\n",
            "  house_data.iloc[:, 0] = pd.to_datetime(\n",
            "/content/BERT4Nilm-base/dataset.py:238: FutureWarning: DataFrame.fillna with 'method' is deprecated and will raise in a future version. Use obj.ffill() or obj.bfill() instead.\n",
            "  house_data = house_data.resample(self.sampling).mean().fillna(\n",
            "/content/BERT4Nilm-base/dataset.py:233: FutureWarning: Setting an item of incompatible dtype is deprecated and will raise in a future error of pandas. Value '0        2011-05-21 19:39:51\n",
            "1        2011-05-21 19:39:57\n",
            "2        2011-05-21 19:40:00\n",
            "3        2011-05-21 19:40:04\n",
            "4        2011-05-21 19:40:07\n",
            "                 ...        \n",
            "192187   2011-06-14 01:12:20\n",
            "192188   2011-06-14 01:12:23\n",
            "192189   2011-06-14 01:12:25\n",
            "192190   2011-06-14 01:12:33\n",
            "192191   2011-06-14 01:12:36\n",
            "Name: 0, Length: 192192, dtype: datetime64[ns]' has dtype incompatible with int64, please explicitly cast to a compatible dtype first.\n",
            "  house_data.iloc[:, 0] = pd.to_datetime(\n",
            "/content/BERT4Nilm-base/dataset.py:238: FutureWarning: DataFrame.fillna with 'method' is deprecated and will raise in a future version. Use obj.ffill() or obj.bfill() instead.\n",
            "  house_data = house_data.resample(self.sampling).mean().fillna(\n",
            "Appliance: ['dishwasher']\n",
            "Sum of ons: [276112.]\n",
            "Total length: 959447\n",
            "C0: 1.0\n",
            "Failed to load old model, continue training new model...\n",
            "Validation, rel_err 0.66, acc 0.47, f1 0.23: 100% 2/2 [00:02<00:00,  1.17s/it]\n",
            "Saving best model...\n",
            "  0% 0/57 [00:00<?, ?it/s]/content/BERT4Nilm-base/dataloader.py:112: UserWarning: Creating a tensor from a list of numpy.ndarrays is extremely slow. Please consider converting the list to a single numpy.ndarray with numpy.array() before converting to a tensor. (Triggered internally at /pytorch/torch/csrc/utils/tensor_new.cpp:253.)\n",
            "  return torch.tensor(tokens), torch.tensor(labels), torch.tensor(on_offs)\n",
            "Epoch 1, loss 0.45:  32% 18/57 [00:44<01:36,  2.47s/it]"
          ]
        }
      ]
    }
  ]
}